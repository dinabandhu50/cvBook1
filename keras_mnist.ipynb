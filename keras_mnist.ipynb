{
 "cells": [
  {
   "cell_type": "code",
   "execution_count": 17,
   "metadata": {},
   "outputs": [],
   "source": [
    "from sklearn.preprocessing import LabelBinarizer\n",
    "from sklearn.model_selection import train_test_split\n",
    "from sklearn.metrics import classification_report\n",
    "from keras.models import Sequential\n",
    "from keras.layers import Dense\n",
    "from keras.optimizers import SGD\n",
    "from keras.datasets import mnist\n",
    "import matplotlib.pyplot as plt\n",
    "import numpy as np\n",
    "import keras"
   ]
  },
  {
   "cell_type": "code",
   "execution_count": 18,
   "metadata": {},
   "outputs": [],
   "source": [
    "batch_size = 128\n",
    "num_classes = 10\n",
    "epochs = 12"
   ]
  },
  {
   "cell_type": "code",
   "execution_count": 29,
   "metadata": {},
   "outputs": [
    {
     "name": "stderr",
     "output_type": "stream",
     "text": [
      "usage: ipykernel_launcher.py [-h] -o OUTPUT\n",
      "ipykernel_launcher.py: error: the following arguments are required: -o/--output\n"
     ]
    },
    {
     "ename": "SystemExit",
     "evalue": "2",
     "output_type": "error",
     "traceback": [
      "An exception has occurred, use %tb to see the full traceback.\n",
      "\u001b[0;31mSystemExit\u001b[0m\u001b[0;31m:\u001b[0m 2\n"
     ]
    }
   ],
   "source": [
    "# import argparse\n",
    "\n",
    "# ap = argparse.ArgumentParser()\n",
    "# ap.add_argument(\"-o\",\"--output\",required=True,help=\"path to the output loss/accuracy plot\")\n",
    "# args = vars(ap.parse_args())"
   ]
  },
  {
   "cell_type": "markdown",
   "metadata": {},
   "source": [
    "# Setting up Data pipeline"
   ]
  },
  {
   "cell_type": "code",
   "execution_count": 19,
   "metadata": {},
   "outputs": [],
   "source": [
    "# input image dimensions\n",
    "img_rows, img_cols = 28, 28"
   ]
  },
  {
   "cell_type": "code",
   "execution_count": 20,
   "metadata": {},
   "outputs": [],
   "source": [
    "# the data, split between train and test sets\n",
    "(x_train, y_train), (x_test, y_test) = mnist.load_data()"
   ]
  },
  {
   "cell_type": "code",
   "execution_count": 22,
   "metadata": {},
   "outputs": [
    {
     "name": "stdout",
     "output_type": "stream",
     "text": [
      "x_train shape: (60000, 784)\n",
      "60000 train samples\n",
      "10000 test samples\n"
     ]
    }
   ],
   "source": [
    "x_train = x_train.astype('float32').reshape(-1,28*28)\n",
    "x_test = x_test.astype('float32').reshape(-1,28*28)\n",
    "x_train /= 255\n",
    "x_test /= 255\n",
    "print('x_train shape:', x_train.shape)\n",
    "print(x_train.shape[0], 'train samples')\n",
    "print(x_test.shape[0], 'test samples')"
   ]
  },
  {
   "cell_type": "code",
   "execution_count": 23,
   "metadata": {},
   "outputs": [],
   "source": [
    "# convert class vectors to binary class matrices\n",
    "y_train = keras.utils.to_categorical(y_train, num_classes)\n",
    "y_test = keras.utils.to_categorical(y_test, num_classes)"
   ]
  },
  {
   "cell_type": "markdown",
   "metadata": {},
   "source": [
    "# Define Model"
   ]
  },
  {
   "cell_type": "code",
   "execution_count": 24,
   "metadata": {},
   "outputs": [],
   "source": [
    "# define the 784-256-128-10 architecture using keras\n",
    "model = Sequential()\n",
    "model.add(Dense(256, input_shape=(784,),activation=\"sigmoid\"))\n",
    "model.add(Dense(128, activation=\"sigmoid\"))\n",
    "model.add(Dense(10, activation=\"softmax\"))"
   ]
  },
  {
   "cell_type": "markdown",
   "metadata": {},
   "source": [
    "# Model training"
   ]
  },
  {
   "cell_type": "code",
   "execution_count": 26,
   "metadata": {},
   "outputs": [
    {
     "name": "stdout",
     "output_type": "stream",
     "text": [
      "Train on 60000 samples, validate on 10000 samples\n",
      "Epoch 1/100\n",
      "60000/60000 [==============================] - 5s 78us/step - loss: 2.3143 - acc: 0.1090 - val_loss: 2.3016 - val_acc: 0.1028\n",
      "Epoch 2/100\n",
      "60000/60000 [==============================] - 3s 57us/step - loss: 2.3019 - acc: 0.1106 - val_loss: 2.3021 - val_acc: 0.1135\n",
      "Epoch 3/100\n",
      "60000/60000 [==============================] - 3s 56us/step - loss: 2.3020 - acc: 0.1107 - val_loss: 2.3013 - val_acc: 0.1135\n",
      "Epoch 4/100\n",
      "60000/60000 [==============================] - 3s 58us/step - loss: 2.3019 - acc: 0.1114 - val_loss: 2.3014 - val_acc: 0.1135\n",
      "Epoch 5/100\n",
      "60000/60000 [==============================] - 3s 57us/step - loss: 2.3018 - acc: 0.1118 - val_loss: 2.3012 - val_acc: 0.1135\n",
      "Epoch 6/100\n",
      "60000/60000 [==============================] - 3s 56us/step - loss: 2.3019 - acc: 0.1102 - val_loss: 2.3012 - val_acc: 0.1135\n",
      "Epoch 7/100\n",
      "60000/60000 [==============================] - 4s 60us/step - loss: 2.3020 - acc: 0.1112 - val_loss: 2.3012 - val_acc: 0.1135\n",
      "Epoch 8/100\n",
      "60000/60000 [==============================] - 4s 59us/step - loss: 2.3021 - acc: 0.1113 - val_loss: 2.3016 - val_acc: 0.1135\n",
      "Epoch 9/100\n",
      "60000/60000 [==============================] - 3s 56us/step - loss: 2.3019 - acc: 0.1118 - val_loss: 2.3012 - val_acc: 0.1135\n",
      "Epoch 10/100\n",
      "60000/60000 [==============================] - 4s 59us/step - loss: 2.3020 - acc: 0.1105 - val_loss: 2.3022 - val_acc: 0.1135\n",
      "Epoch 11/100\n",
      "60000/60000 [==============================] - 3s 56us/step - loss: 2.3019 - acc: 0.1113 - val_loss: 2.3015 - val_acc: 0.1135\n",
      "Epoch 12/100\n",
      "60000/60000 [==============================] - 3s 56us/step - loss: 2.3021 - acc: 0.1112 - val_loss: 2.3012 - val_acc: 0.1135\n",
      "Epoch 13/100\n",
      "60000/60000 [==============================] - 3s 56us/step - loss: 2.3021 - acc: 0.1110 - val_loss: 2.3014 - val_acc: 0.1135\n",
      "Epoch 14/100\n",
      "60000/60000 [==============================] - 3s 56us/step - loss: 2.3020 - acc: 0.1116 - val_loss: 2.3016 - val_acc: 0.1135\n",
      "Epoch 15/100\n",
      "60000/60000 [==============================] - 3s 56us/step - loss: 2.3020 - acc: 0.1108 - val_loss: 2.3016 - val_acc: 0.1135\n",
      "Epoch 16/100\n",
      "60000/60000 [==============================] - 3s 56us/step - loss: 2.3019 - acc: 0.1102 - val_loss: 2.3015 - val_acc: 0.1135\n",
      "Epoch 17/100\n",
      "60000/60000 [==============================] - 3s 56us/step - loss: 2.3020 - acc: 0.1104 - val_loss: 2.3019 - val_acc: 0.1135\n",
      "Epoch 18/100\n",
      "60000/60000 [==============================] - 3s 56us/step - loss: 2.3019 - acc: 0.1117 - val_loss: 2.3016 - val_acc: 0.1135\n",
      "Epoch 19/100\n",
      "60000/60000 [==============================] - 3s 57us/step - loss: 2.3019 - acc: 0.1103 - val_loss: 2.3018 - val_acc: 0.1135\n",
      "Epoch 20/100\n",
      "60000/60000 [==============================] - 4s 62us/step - loss: 2.3017 - acc: 0.1105 - val_loss: 2.3027 - val_acc: 0.0982\n",
      "Epoch 21/100\n",
      "60000/60000 [==============================] - 4s 58us/step - loss: 2.3018 - acc: 0.1098 - val_loss: 2.3014 - val_acc: 0.1135\n",
      "Epoch 22/100\n",
      "60000/60000 [==============================] - 4s 59us/step - loss: 2.3020 - acc: 0.1108 - val_loss: 2.3015 - val_acc: 0.1135\n",
      "Epoch 23/100\n",
      "60000/60000 [==============================] - 4s 59us/step - loss: 2.3019 - acc: 0.1112 - val_loss: 2.3016 - val_acc: 0.1135\n",
      "Epoch 24/100\n",
      "60000/60000 [==============================] - 4s 60us/step - loss: 2.3020 - acc: 0.1108 - val_loss: 2.3011 - val_acc: 0.1135\n",
      "Epoch 25/100\n",
      "60000/60000 [==============================] - 4s 59us/step - loss: 2.3020 - acc: 0.1120 - val_loss: 2.3012 - val_acc: 0.1135\n",
      "Epoch 26/100\n",
      "60000/60000 [==============================] - 4s 59us/step - loss: 2.3020 - acc: 0.1110 - val_loss: 2.3018 - val_acc: 0.1135\n",
      "Epoch 27/100\n",
      "60000/60000 [==============================] - 4s 59us/step - loss: 2.3020 - acc: 0.1102 - val_loss: 2.3013 - val_acc: 0.1135\n",
      "Epoch 28/100\n",
      "60000/60000 [==============================] - 4s 63us/step - loss: 2.3020 - acc: 0.1119 - val_loss: 2.3013 - val_acc: 0.1135\n",
      "Epoch 29/100\n",
      "60000/60000 [==============================] - 4s 64us/step - loss: 2.3020 - acc: 0.1114 - val_loss: 2.3015 - val_acc: 0.1135\n",
      "Epoch 30/100\n",
      "60000/60000 [==============================] - 4s 68us/step - loss: 2.3020 - acc: 0.1115 - val_loss: 2.3022 - val_acc: 0.1028\n",
      "Epoch 31/100\n",
      "60000/60000 [==============================] - 4s 61us/step - loss: 2.3019 - acc: 0.1095 - val_loss: 2.3015 - val_acc: 0.1135\n",
      "Epoch 32/100\n",
      "60000/60000 [==============================] - 4s 60us/step - loss: 2.3019 - acc: 0.1112 - val_loss: 2.3017 - val_acc: 0.1135\n",
      "Epoch 33/100\n",
      "60000/60000 [==============================] - 3s 58us/step - loss: 2.3018 - acc: 0.1111 - val_loss: 2.3013 - val_acc: 0.1135\n",
      "Epoch 34/100\n",
      "60000/60000 [==============================] - 3s 58us/step - loss: 2.3018 - acc: 0.1110 - val_loss: 2.3016 - val_acc: 0.1135\n",
      "Epoch 35/100\n",
      "60000/60000 [==============================] - 4s 58us/step - loss: 2.3020 - acc: 0.1111 - val_loss: 2.3018 - val_acc: 0.1135\n",
      "Epoch 36/100\n",
      "60000/60000 [==============================] - 4s 61us/step - loss: 2.3019 - acc: 0.1118 - val_loss: 2.3017 - val_acc: 0.1135\n",
      "Epoch 37/100\n",
      "60000/60000 [==============================] - 3s 58us/step - loss: 2.3020 - acc: 0.1111 - val_loss: 2.3018 - val_acc: 0.1135\n",
      "Epoch 38/100\n",
      "60000/60000 [==============================] - 3s 58us/step - loss: 2.3019 - acc: 0.1105 - val_loss: 2.3015 - val_acc: 0.1135\n",
      "Epoch 39/100\n",
      "60000/60000 [==============================] - 3s 57us/step - loss: 2.3020 - acc: 0.1107 - val_loss: 2.3012 - val_acc: 0.1135\n",
      "Epoch 40/100\n",
      "60000/60000 [==============================] - 3s 57us/step - loss: 2.3018 - acc: 0.1112 - val_loss: 2.3018 - val_acc: 0.1135\n",
      "Epoch 41/100\n",
      "60000/60000 [==============================] - 3s 58us/step - loss: 2.3020 - acc: 0.1103 - val_loss: 2.3019 - val_acc: 0.1135\n",
      "Epoch 42/100\n",
      "60000/60000 [==============================] - 3s 58us/step - loss: 2.3020 - acc: 0.1119 - val_loss: 2.3009 - val_acc: 0.1135\n",
      "Epoch 43/100\n",
      "60000/60000 [==============================] - 3s 58us/step - loss: 2.3019 - acc: 0.1114 - val_loss: 2.3014 - val_acc: 0.1135\n",
      "Epoch 44/100\n",
      "60000/60000 [==============================] - 4s 59us/step - loss: 2.3019 - acc: 0.1111 - val_loss: 2.3021 - val_acc: 0.1028\n",
      "Epoch 45/100\n",
      "60000/60000 [==============================] - 4s 64us/step - loss: 2.3019 - acc: 0.1102 - val_loss: 2.3013 - val_acc: 0.1135\n",
      "Epoch 46/100\n",
      "60000/60000 [==============================] - 4s 62us/step - loss: 2.3019 - acc: 0.1109 - val_loss: 2.3022 - val_acc: 0.1135\n",
      "Epoch 47/100\n",
      "60000/60000 [==============================] - 4s 61us/step - loss: 2.3019 - acc: 0.1102 - val_loss: 2.3018 - val_acc: 0.1135\n",
      "Epoch 48/100\n",
      "60000/60000 [==============================] - 3s 58us/step - loss: 2.3018 - acc: 0.1113 - val_loss: 2.3014 - val_acc: 0.1135\n",
      "Epoch 49/100\n",
      "60000/60000 [==============================] - 4s 63us/step - loss: 2.3019 - acc: 0.1111 - val_loss: 2.3018 - val_acc: 0.1010\n",
      "Epoch 50/100\n",
      "60000/60000 [==============================] - 4s 59us/step - loss: 2.3019 - acc: 0.1101 - val_loss: 2.3018 - val_acc: 0.0980\n",
      "Epoch 51/100\n",
      "60000/60000 [==============================] - 4s 64us/step - loss: 2.3019 - acc: 0.1109 - val_loss: 2.3017 - val_acc: 0.1135\n",
      "Epoch 52/100\n",
      "60000/60000 [==============================] - 4s 65us/step - loss: 2.3020 - acc: 0.1109 - val_loss: 2.3019 - val_acc: 0.1135\n",
      "Epoch 53/100\n",
      "60000/60000 [==============================] - 4s 60us/step - loss: 2.3020 - acc: 0.1117 - val_loss: 2.3014 - val_acc: 0.1135\n",
      "Epoch 54/100\n",
      "60000/60000 [==============================] - 4s 62us/step - loss: 2.3018 - acc: 0.1107 - val_loss: 2.3036 - val_acc: 0.1010\n",
      "Epoch 55/100\n",
      "60000/60000 [==============================] - 4s 61us/step - loss: 2.3019 - acc: 0.1103 - val_loss: 2.3013 - val_acc: 0.1135\n",
      "Epoch 56/100\n",
      "60000/60000 [==============================] - 3s 58us/step - loss: 2.3019 - acc: 0.1110 - val_loss: 2.3015 - val_acc: 0.1135\n",
      "Epoch 57/100\n",
      "60000/60000 [==============================] - 4s 64us/step - loss: 2.3019 - acc: 0.1112 - val_loss: 2.3023 - val_acc: 0.1028\n",
      "Epoch 58/100\n",
      "60000/60000 [==============================] - 4s 63us/step - loss: 2.3018 - acc: 0.1111 - val_loss: 2.3016 - val_acc: 0.1135\n",
      "Epoch 59/100\n"
     ]
    },
    {
     "name": "stdout",
     "output_type": "stream",
     "text": [
      "60000/60000 [==============================] - 3s 58us/step - loss: 2.3019 - acc: 0.1111 - val_loss: 2.3014 - val_acc: 0.1135\n",
      "Epoch 60/100\n",
      "60000/60000 [==============================] - 3s 56us/step - loss: 2.3019 - acc: 0.1108 - val_loss: 2.3013 - val_acc: 0.1135\n",
      "Epoch 61/100\n",
      "60000/60000 [==============================] - 3s 55us/step - loss: 2.3019 - acc: 0.1105 - val_loss: 2.3023 - val_acc: 0.1135\n",
      "Epoch 62/100\n",
      "60000/60000 [==============================] - 3s 54us/step - loss: 2.3020 - acc: 0.1115 - val_loss: 2.3011 - val_acc: 0.1135\n",
      "Epoch 63/100\n",
      "60000/60000 [==============================] - 3s 54us/step - loss: 2.3018 - acc: 0.1115 - val_loss: 2.3022 - val_acc: 0.1135\n",
      "Epoch 64/100\n",
      "60000/60000 [==============================] - 3s 54us/step - loss: 2.3018 - acc: 0.1112 - val_loss: 2.3015 - val_acc: 0.1028\n",
      "Epoch 65/100\n",
      "60000/60000 [==============================] - 3s 54us/step - loss: 2.3018 - acc: 0.1119 - val_loss: 2.3014 - val_acc: 0.1135\n",
      "Epoch 66/100\n",
      "60000/60000 [==============================] - 3s 54us/step - loss: 2.3017 - acc: 0.1123 - val_loss: 2.3016 - val_acc: 0.1135\n",
      "Epoch 67/100\n",
      "60000/60000 [==============================] - 3s 54us/step - loss: 2.3019 - acc: 0.1109 - val_loss: 2.3012 - val_acc: 0.1135\n",
      "Epoch 68/100\n",
      "60000/60000 [==============================] - 3s 54us/step - loss: 2.3020 - acc: 0.1112 - val_loss: 2.3015 - val_acc: 0.1135\n",
      "Epoch 69/100\n",
      "60000/60000 [==============================] - 3s 54us/step - loss: 2.3019 - acc: 0.1110 - val_loss: 2.3012 - val_acc: 0.1135\n",
      "Epoch 70/100\n",
      "60000/60000 [==============================] - 3s 54us/step - loss: 2.3018 - acc: 0.1109 - val_loss: 2.3020 - val_acc: 0.1135\n",
      "Epoch 71/100\n",
      "60000/60000 [==============================] - 3s 54us/step - loss: 2.3019 - acc: 0.1113 - val_loss: 2.3016 - val_acc: 0.1135\n",
      "Epoch 72/100\n",
      "60000/60000 [==============================] - 3s 54us/step - loss: 2.3019 - acc: 0.1114 - val_loss: 2.3011 - val_acc: 0.1135\n",
      "Epoch 73/100\n",
      "60000/60000 [==============================] - 3s 54us/step - loss: 2.3019 - acc: 0.1106 - val_loss: 2.3011 - val_acc: 0.1135\n",
      "Epoch 74/100\n",
      "60000/60000 [==============================] - 3s 55us/step - loss: 2.3018 - acc: 0.1110 - val_loss: 2.3018 - val_acc: 0.1135\n",
      "Epoch 75/100\n",
      "60000/60000 [==============================] - 4s 67us/step - loss: 2.3019 - acc: 0.1110 - val_loss: 2.3014 - val_acc: 0.1135\n",
      "Epoch 76/100\n",
      "60000/60000 [==============================] - 4s 63us/step - loss: 2.3018 - acc: 0.1116 - val_loss: 2.3018 - val_acc: 0.1135\n",
      "Epoch 77/100\n",
      "60000/60000 [==============================] - 4s 60us/step - loss: 2.3018 - acc: 0.1111 - val_loss: 2.3016 - val_acc: 0.1135\n",
      "Epoch 78/100\n",
      "60000/60000 [==============================] - 4s 62us/step - loss: 2.3018 - acc: 0.1113 - val_loss: 2.3017 - val_acc: 0.1135\n",
      "Epoch 79/100\n",
      "60000/60000 [==============================] - 4s 68us/step - loss: 2.3018 - acc: 0.1108 - val_loss: 2.3010 - val_acc: 0.1135\n",
      "Epoch 80/100\n",
      "60000/60000 [==============================] - 4s 63us/step - loss: 2.3019 - acc: 0.1115 - val_loss: 2.3011 - val_acc: 0.1135\n",
      "Epoch 81/100\n",
      "60000/60000 [==============================] - 4s 59us/step - loss: 2.3018 - acc: 0.1112 - val_loss: 2.3012 - val_acc: 0.1135\n",
      "Epoch 82/100\n",
      "60000/60000 [==============================] - 3s 57us/step - loss: 2.3019 - acc: 0.1121 - val_loss: 2.3014 - val_acc: 0.1135\n",
      "Epoch 83/100\n",
      "60000/60000 [==============================] - 4s 60us/step - loss: 2.3018 - acc: 0.1102 - val_loss: 2.3016 - val_acc: 0.1135\n",
      "Epoch 84/100\n",
      "60000/60000 [==============================] - 4s 60us/step - loss: 2.3019 - acc: 0.1107 - val_loss: 2.3015 - val_acc: 0.1135\n",
      "Epoch 85/100\n",
      "60000/60000 [==============================] - 4s 59us/step - loss: 2.3016 - acc: 0.1118 - val_loss: 2.3022 - val_acc: 0.1135\n",
      "Epoch 86/100\n",
      "60000/60000 [==============================] - 3s 58us/step - loss: 2.3018 - acc: 0.1116 - val_loss: 2.3017 - val_acc: 0.1135\n",
      "Epoch 87/100\n",
      "60000/60000 [==============================] - 4s 60us/step - loss: 2.3017 - acc: 0.1114 - val_loss: 2.3013 - val_acc: 0.1135\n",
      "Epoch 88/100\n",
      "60000/60000 [==============================] - 4s 60us/step - loss: 2.3019 - acc: 0.1104 - val_loss: 2.3012 - val_acc: 0.1135\n",
      "Epoch 89/100\n",
      "60000/60000 [==============================] - 4s 59us/step - loss: 2.3019 - acc: 0.1112 - val_loss: 2.3017 - val_acc: 0.1135\n",
      "Epoch 90/100\n",
      "60000/60000 [==============================] - 3s 57us/step - loss: 2.3018 - acc: 0.1116 - val_loss: 2.3014 - val_acc: 0.1135\n",
      "Epoch 91/100\n",
      "60000/60000 [==============================] - 3s 58us/step - loss: 2.3018 - acc: 0.1109 - val_loss: 2.3012 - val_acc: 0.1135\n",
      "Epoch 92/100\n",
      "60000/60000 [==============================] - 3s 58us/step - loss: 2.3017 - acc: 0.1110 - val_loss: 2.3017 - val_acc: 0.1135\n",
      "Epoch 93/100\n",
      "60000/60000 [==============================] - 4s 60us/step - loss: 2.3019 - acc: 0.1112 - val_loss: 2.3021 - val_acc: 0.1028\n",
      "Epoch 94/100\n",
      "60000/60000 [==============================] - 3s 58us/step - loss: 2.3019 - acc: 0.1109 - val_loss: 2.3013 - val_acc: 0.1135\n",
      "Epoch 95/100\n",
      "60000/60000 [==============================] - 4s 61us/step - loss: 2.3018 - acc: 0.1118 - val_loss: 2.3015 - val_acc: 0.1135\n",
      "Epoch 96/100\n",
      "60000/60000 [==============================] - 3s 57us/step - loss: 2.3018 - acc: 0.1118 - val_loss: 2.3014 - val_acc: 0.1135\n",
      "Epoch 97/100\n",
      "60000/60000 [==============================] - 3s 57us/step - loss: 2.3018 - acc: 0.1116 - val_loss: 2.3013 - val_acc: 0.1028\n",
      "Epoch 98/100\n",
      "60000/60000 [==============================] - 4s 58us/step - loss: 2.3018 - acc: 0.1113 - val_loss: 2.3018 - val_acc: 0.1135\n",
      "Epoch 99/100\n",
      "60000/60000 [==============================] - 4s 59us/step - loss: 2.3018 - acc: 0.1112 - val_loss: 2.3020 - val_acc: 0.1143\n",
      "Epoch 100/100\n",
      "60000/60000 [==============================] - 4s 58us/step - loss: 2.3019 - acc: 0.1116 - val_loss: 2.3014 - val_acc: 0.1135\n"
     ]
    }
   ],
   "source": [
    "sgd = SGD(0.01)\n",
    "model.compile(\n",
    "    loss=\"categorical_crossentropy\",\n",
    "    optimizer=sgd,\n",
    "    metrics=[\"accuracy\"]\n",
    ")\n",
    "H = model.fit(\n",
    "    x_train, y_train,\n",
    "    validation_data = (x_test,y_test),\n",
    "    epochs=100,\n",
    "    batch_size=128    \n",
    ")"
   ]
  },
  {
   "cell_type": "code",
   "execution_count": 30,
   "metadata": {
    "scrolled": true
   },
   "outputs": [
    {
     "data": {
      "image/png": "[encoded data removed]",
      "text/plain": [
       "<Figure size 432x288 with 1 Axes>"
      ]
     },
     "metadata": {},
     "output_type": "display_data"
    }
   ],
   "source": [
    "# plot the training loss and accuracy\n",
    "plt.style.use(\"ggplot\")\n",
    "plt.figure()\n",
    "plt.plot(np.arange(0, 100), H.history[\"loss\"], label=\"train_loss\")\n",
    "plt.plot(np.arange(0, 100), H.history[\"val_loss\"], label=\"val_loss\")\n",
    "plt.plot(np.arange(0, 100), H.history[\"acc\"], label=\"train_acc\")\n",
    "plt.plot(np.arange(0, 100), H.history[\"val_acc\"], label=\"val_acc\")\n",
    "plt.title(\"Training Loss and Accuracy\")\n",
    "plt.xlabel(\"Epoch #\")\n",
    "plt.ylabel(\"Loss/Accuracy\")\n",
    "plt.legend()\n",
    "plt.savefig(\"./output\")"
   ]
  },
  {
   "cell_type": "code",
   "execution_count": null,
   "metadata": {},
   "outputs": [],
   "source": []
  }
 ],
 "metadata": {
  "kernelspec": {
   "display_name": "Python [conda env:cv] *",
   "language": "python",
   "name": "conda-env-cv-py"
  },
  "language_info": {
   "codemirror_mode": {
    "name": "ipython",
    "version": 3
   },
   "file_extension": ".py",
   "mimetype": "text/x-python",
   "name": "python",
   "nbconvert_exporter": "python",
   "pygments_lexer": "ipython3",
   "version": "3.7.4"
  },
  "varInspector": {
   "cols": {
    "lenName": 16,
    "lenType": 16,
    "lenVar": 40
   },
   "kernels_config": {
    "python": {
     "delete_cmd_postfix": "",
     "delete_cmd_prefix": "del ",
     "library": "var_list.py",
     "varRefreshCmd": "print(var_dic_list())"
    },
    "r": {
     "delete_cmd_postfix": ") ",
     "delete_cmd_prefix": "rm(",
     "library": "var_list.r",
     "varRefreshCmd": "cat(var_dic_list()) "
    }
   },
   "types_to_exclude": [
    "module",
    "function",
    "builtin_function_or_method",
    "instance",
    "_Feature"
   ],
   "window_display": false
  }
 },
 "nbformat": 4,
 "nbformat_minor": 2
}
